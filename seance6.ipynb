{
  "nbformat": 4,
  "nbformat_minor": 0,
  "metadata": {
    "kernelspec": {
      "display_name": "Python 3",
      "language": "python",
      "name": "python3"
    },
    "language_info": {
      "codemirror_mode": {
        "name": "ipython",
        "version": 3
      },
      "file_extension": ".py",
      "mimetype": "text/x-python",
      "name": "python",
      "nbconvert_exporter": "python",
      "pygments_lexer": "ipython3",
      "version": "3.7.6"
    },
    "colab": {
      "name": "seance6.ipynb",
      "provenance": [],
      "collapsed_sections": [],
      "include_colab_link": true
    }
  },
  "cells": [
    {
      "cell_type": "markdown",
      "metadata": {
        "id": "view-in-github",
        "colab_type": "text"
      },
      "source": [
        "<a href=\"https://colab.research.google.com/github/JeremyMetra/itii-seance6/blob/main/seance6.ipynb\" target=\"_parent\"><img src=\"https://colab.research.google.com/assets/colab-badge.svg\" alt=\"Open In Colab\"/></a>"
      ]
    },
    {
      "cell_type": "markdown",
      "metadata": {
        "id": "M1Q-xRb2UGmC"
      },
      "source": [
        "Ex 1 : La m ́ethode des rectangles\n",
        "On cherche à calculer une intégrale en utilisant la méthode des rectangles.\n",
        "![1.png](attachment:1.png)\n",
        "\n",
        "L’intervalle de l’intégrale est noté [a,b] et la fonction à intégrer f. On divise cet intervalle en n petits segments et on fait la somme des aires des petits rectangles délimités par l’axe des abscisses et la courbe de la fonction f.\n",
        "\n",
        "![2.png](attachment:2.png)\n",
        "\n",
        "1. Ecrire la fontion integrale(f,a,b,n) \n",
        "2. Quelle valeur de n faut-il choisir pour être précis à 10^{-4} près ? Ecrire la fonction qui permette de calculer cette valeur.\n",
        "3. Tester avec la fonction $f(x)=3x^3+2x-1$ sur l'interval [0,10] avec un pas de 0.001\n",
        "4. Tester avec la fonction $g(x)=cos(\\frac {1}{x})$ sur l'interval [-1;1] privé de 0"
      ]
    },
    {
      "cell_type": "code",
      "metadata": {
        "colab": {
          "base_uri": "https://localhost:8080/"
        },
        "id": "WO-jZKX9UGmC",
        "outputId": "3bd83b65-beaa-46c0-d761-a5ffdd9a0e46"
      },
      "source": [
        "# Ex 1\n",
        "# 1)\n",
        "import numpy as np\n",
        "import math\n",
        "from scipy import integrate as intg\n",
        "\n",
        "def f(x):\n",
        "    return 3*x**3+2*x-1\n",
        "def g(x):\n",
        "    return np.cos(1/x)\n",
        "\n",
        "def integrale(f,a,b,n):\n",
        "    return((b-a)/n)*np.sum(f(np.arange(a,b,(b-a)/n)))\n",
        "\n",
        "print(integrale(f,1,10,100000))\n",
        "\n",
        "# 2) Ne marche pas \n",
        "def calcul_precision(f, a, b, n, precision):\n",
        "    val = integrale(f, a, b, n)\n",
        "    val1 = val+val/n\n",
        "    while abs(val - val1) > precision:\n",
        "        val1 = val\n",
        "        n += 1\n",
        "        val = integrale(f, a, b, n)\n",
        "    return val, n\n",
        "\n",
        "calcul_precision(f, 1, 10, 1000, 1e-4)\n"
      ],
      "execution_count": 41,
      "outputs": [
        {
          "output_type": "stream",
          "text": [
            "7589.114325584777\n"
          ],
          "name": "stdout"
        },
        {
          "output_type": "execute_result",
          "data": {
            "text/plain": [
              "(7588.085352073815, 11649)"
            ]
          },
          "metadata": {
            "tags": []
          },
          "execution_count": 41
        }
      ]
    },
    {
      "cell_type": "code",
      "metadata": {
        "id": "1yyfpfybaqtY"
      },
      "source": [
        ""
      ],
      "execution_count": null,
      "outputs": []
    },
    {
      "cell_type": "markdown",
      "metadata": {
        "id": "nMCbG5kYUGmC"
      },
      "source": [
        "Ex2: Méthode des trapèzes\n",
        "Le calcul numérique d’une intégrale par la méthode des trapèzes consiste à calculer une valeur approchée de l’intégrale $\\int_{a}^{b}f(x)dx$ en utilisant une interpolation linéaire de f par intervalles. Sur un intervalle [a,b], la valeur de l’intégrale peut être approchée par la surface du trapèzepassant par les points[a,0],[a,f(a)],[b,f(b)],[b,0]:\n",
        "$$\\int_{a}^{b}f(x)dx \\approx (b-a) \\left [ \\frac{f(a)+f(b)}{2} \\right ]$$\n",
        "\n",
        "Pour calculer une meilleur approximation de cette intégrale, on découpe l’intervalle [a,b] en n intervalles plus petits, de taille $\\frac{b-a}{n}$, et on calcule la somme des aires (signées) des trapèzes :\n",
        "$$\n",
        "\\int_{a}^{b}f(x)dx \\approx \\frac{(b-a)}{2n} \\sum_{k=i}^{n} \\left [ f(a+(k-i)\\frac{b-a}{n})+f(a+k\\frac{b-a}{n}) \\right ]$$\n",
        "\n",
        "1. Écrivez tous les termes de la somme ci-dessus pour n= 3, et observez qu’il estpossible de faire le calcul avec exactement n+ 1 = 4appels à la fonction f\n",
        "2. Écrire une fonction pythonintegrale_trapezes(a, b, n) qui calcule l’intégrale de la fonction f(x) de a à b avec n intervalles, en faisant au plus n+ 1 appels à la fonction f.\n",
        "3. Pour $f(x) =xsin(x2)$, calculez l’erreur numérique de son intégrale sur l’intervalle [0,√π], pour 2 à 30 intervalles."
      ]
    },
    {
      "cell_type": "code",
      "metadata": {
        "colab": {
          "base_uri": "https://localhost:8080/"
        },
        "id": "qAzqi_tlifY1",
        "outputId": "dfc705a4-b8e5-4d1c-a417-7f03c2b4a919"
      },
      "source": [
        "#Ex 2 (2)\n",
        "import math \n",
        " \n",
        "def pythonintegrale_trapezes(a, b, n, f): \n",
        "    S = 0 \n",
        "    for i in range(0, n): \n",
        "        x1 = a + (b - a) * i / float(n) \n",
        "        x2 = a + (b - a) * (i + 1) / float(n) \n",
        "        S += (f(x1) + f(x2)) / 2.0 * (x2 - x1) \n",
        "    return S \n",
        "\n",
        "def fct(x): \n",
        "    return 3*x**3+2*x-1\n",
        " \n",
        "for i in range(10, 200): \n",
        "    s = pythonintegrale_trapezes(0, 10, i, fct) \n",
        "print(s) "
      ],
      "execution_count": 59,
      "outputs": [
        {
          "output_type": "stream",
          "text": [
            "7590.189389156841\n"
          ],
          "name": "stdout"
        }
      ]
    }
  ]
}